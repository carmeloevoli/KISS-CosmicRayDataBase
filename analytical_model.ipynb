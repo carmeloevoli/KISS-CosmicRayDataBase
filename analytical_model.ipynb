{
 "cells": [
  {
   "cell_type": "markdown",
   "metadata": {},
   "source": [
    "## On the H-to-He ratio"
   ]
  },
  {
   "cell_type": "markdown",
   "metadata": {},
   "source": [
    "### Solution for nuclei with spallation losses\n",
    "\n",
    "The convection-diffusion equation for nuclei with spallation in the ISM:\n",
    "\n",
    "$$-\\frac{\\partial}{\\partial z} \\left[ D \\frac{\\partial f}{\\partial z} \\right] + \\frac{f}{\\tau_{\\rm sp}} = Q_0 \\delta(z)$$\n",
    "\n",
    "where the spallation time scale is given by\n",
    "\n",
    "$$\\tau_{\\rm sp} = \\frac{1}{n_{\\rm ISM} \\sigma_{\\rm sp} v}$$\n",
    "\n",
    "Here we approximate the gas density as $n_{\\rm ISM} \\sim 2 h n_d \\delta(z)$, i.e we assume that the spallation process only occurs in the disk.\n",
    "\n",
    "Assuming boundary conditions $f(z = \\pm H) = 0$, the solution (see appendix) can be found: \n",
    "\n",
    "$$f_0 = \\frac{Q_0 H}{2 D} \\frac{1}{1 + \\chi / \\chi_{\\rm sp}} = \\frac{Q_0}{2 m_p n_d h v} \\frac{\\chi}{1 + \\chi / \\chi_{\\rm sp}}$$\n",
    "\n"
   ]
  },
  {
   "cell_type": "code",
   "execution_count": 1,
   "metadata": {
    "collapsed": true
   },
   "outputs": [],
   "source": [
    "def grammage(R):\n",
    "    \"\"\"Compute grammage as a single power-law\"\"\"\n",
    "    chi_0 = 10.\n",
    "    R_0 = 4.\n",
    "    delta = 0.34\n",
    "    return chi_0 * (R / R_0)**(-delta) "
   ]
  },
  {
   "cell_type": "code",
   "execution_count": 2,
   "metadata": {},
   "outputs": [
    {
     "name": "stderr",
     "output_type": "stream",
     "text": [
      "/usr/local/lib/python2.7/site-packages/matplotlib/font_manager.py:273: UserWarning: Matplotlib is building the font cache using fc-list. This may take a moment.\n",
      "  warnings.warn('Matplotlib is building the font cache using fc-list. This may take a moment.')\n"
     ]
    },
    {
     "data": {
      "image/png": "[encoded data removed]",
      "text/plain": [
       "<matplotlib.figure.Figure at 0x10bf6f190>"
      ]
     },
     "metadata": {},
     "output_type": "display_data"
    }
   ],
   "source": [
    "import matplotlib.pyplot as plt\n",
    "import numpy as np\n",
    "R = np.logspace(1, 3, 100)\n",
    "plt.plot(R, grammage(R))\n",
    "plt.xscale('log'), plt.yscale('log')\n",
    "plt.show()"
   ]
  },
  {
   "cell_type": "markdown",
   "metadata": {
    "collapsed": true
   },
   "source": [
    "### Measurements of the H-to-He ratio (time interval > 2000)"
   ]
  },
  {
   "cell_type": "code",
   "execution_count": 21,
   "metadata": {
    "collapsed": true
   },
   "outputs": [],
   "source": [
    "def plot_data(filename, slope_plot, color, fmt):\n",
    "    x, y, err_y_lo, err_y_up = np.loadtxt(filename,skiprows=2,usecols=(0,3,8,9),unpack=True)\n",
    "    y_err = [x**slope_plot * err_y_lo, x**slope_plot * err_y_up]\n",
    "    plt.errorbar(x, x**slope_plot * y, yerr=y_err, fmt=fmt, color=color)    "
   ]
  },
  {
   "cell_type": "code",
   "execution_count": 26,
   "metadata": {
    "collapsed": true
   },
   "outputs": [],
   "source": [
    "def fit_data(filename):\n",
    "    x, y, err_y_lo, err_y_up = np.loadtxt(filename,skiprows=2,usecols=(0,3,8,9),unpack=True)"
   ]
  },
  {
   "cell_type": "code",
   "execution_count": 25,
   "metadata": {},
   "outputs": [
    {
     "data": {
      "image/png": "[encoded data removed]",
      "text/plain": [
       "<matplotlib.figure.Figure at 0x10d2a6910>"
      ]
     },
     "metadata": {},
     "output_type": "display_data"
    }
   ],
   "source": [
    "plt.close()\n",
    "plot_data('data/PAMELA.txt', 0, 'r', 'o')\n",
    "plot_data('data/AMS02.txt', 0, 'b', 'o')\n",
    "plot_data('data/BESS-PolarII.txt', 0, 'g', 'o')\n",
    "plt.xscale('log')\n",
    "plt.ylim([2, 7]), plt.xlim([10, 2e3])\n",
    "plt.xlabel('R [GV]'), plt.ylabel('H/He')\n",
    "plt.legend(['PAMELA', 'AMS02', 'BESSII'], frameon=False)\n",
    "plt.show()"
   ]
  },
  {
   "cell_type": "code",
   "execution_count": null,
   "metadata": {
    "collapsed": true
   },
   "outputs": [],
   "source": []
  }
 ],
 "metadata": {
  "kernelspec": {
   "display_name": "Python 2",
   "language": "python",
   "name": "python2"
  },
  "language_info": {
   "codemirror_mode": {
    "name": "ipython",
    "version": 2
   },
   "file_extension": ".py",
   "mimetype": "text/x-python",
   "name": "python",
   "nbconvert_exporter": "python",
   "pygments_lexer": "ipython2",
   "version": "2.7.14"
  }
 },
 "nbformat": 4,
 "nbformat_minor": 2
}
