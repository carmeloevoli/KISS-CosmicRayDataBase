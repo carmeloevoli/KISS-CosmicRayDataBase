{
 "cells": [
  {
   "cell_type": "markdown",
   "metadata": {},
   "source": [
    "## On the H-to-He ratio"
   ]
  },
  {
   "cell_type": "markdown",
   "metadata": {},
   "source": [
    "### Solution for nuclei with spallation losses\n",
    "\n",
    "The convection-diffusion equation for nuclei with spallation in the ISM:\n",
    "\n",
    "$$-\\frac{\\partial}{\\partial z} \\left[ D \\frac{\\partial f}{\\partial z} \\right] + \\frac{f}{\\tau_{\\rm sp}} = Q_0 \\delta(z)$$\n",
    "\n",
    "where the spallation time scale is given by\n",
    "\n",
    "$$\\tau_{\\rm sp} = \\frac{1}{n_{\\rm ISM} \\sigma_{\\rm sp} v}$$\n",
    "\n",
    "Here we approximate the gas density as $n_{\\rm ISM} \\sim 2 h n_d \\delta(z)$, i.e we assume that the spallation process only occurs in the disk.\n",
    "\n",
    "Assuming boundary conditions $f(z = \\pm H) = 0$, the solution (see appendix) can be found: \n",
    "\n",
    "$$f_0 = \\frac{Q_0 H}{2 D} \\frac{1}{1 + \\chi / \\chi_{\\rm sp}} = \\frac{Q_0}{2 m_p n_d h v} \\frac{\\chi}{1 + \\chi / \\chi_{\\rm sp}}$$\n",
    "\n"
   ]
  },
  {
   "cell_type": "code",
   "execution_count": 1,
   "metadata": {
    "collapsed": true
   },
   "outputs": [],
   "source": [
    "def grammage(R):\n",
    "    \"\"\"Compute grammage as a single power-law\"\"\"\n",
    "    chi_0 = 10.\n",
    "    R_0 = 4.\n",
    "    delta = 0.34\n",
    "    return chi_0 * (R / R_0)**(-delta) "
   ]
  },
  {
   "cell_type": "code",
   "execution_count": 2,
   "metadata": {},
   "outputs": [
    {
     "name": "stderr",
     "output_type": "stream",
     "text": [
      "/usr/local/lib/python2.7/site-packages/matplotlib/font_manager.py:273: UserWarning: Matplotlib is building the font cache using fc-list. This may take a moment.\n",
      "  warnings.warn('Matplotlib is building the font cache using fc-list. This may take a moment.')\n"
     ]
    },
    {
     "data": {
      "image/png": "[encoded data removed]",
      "text/plain": [
       "<matplotlib.figure.Figure at 0x10bf6f190>"
      ]
     },
     "metadata": {},
     "output_type": "display_data"
    }
   ],
   "source": [
    "import matplotlib.pyplot as plt\n",
    "import numpy as np\n",
    "R = np.logspace(1, 3, 100)\n",
    "plt.plot(R, grammage(R))\n",
    "plt.xscale('log'), plt.yscale('log')\n",
    "plt.show()"
   ]
  },
  {
   "cell_type": "markdown",
   "metadata": {
    "collapsed": true
   },
   "source": [
    "### Measurements of the H-to-He ratio (time interval > 2000)"
   ]
  },
  {
   "cell_type": "code",
   "execution_count": 21,
   "metadata": {
    "collapsed": true
   },
   "outputs": [],
   "source": [
    "def plot_data(filename, slope_plot, color, fmt):\n",
    "    x, y, err_y_lo, err_y_up = np.loadtxt(filename,skiprows=2,usecols=(0,3,8,9),unpack=True)\n",
    "    y_err = [x**slope_plot * err_y_lo, x**slope_plot * err_y_up]\n",
    "    plt.errorbar(x, x**slope_plot * y, yerr=y_err, fmt=fmt, color=color)    "
   ]
  },
  {
   "cell_type": "code",
   "execution_count": 66,
   "metadata": {
    "collapsed": true
   },
   "outputs": [],
   "source": [
    "def model(x, c, g, x0, d):\n",
    "    s = 0.1\n",
    "    return c * (x / 50.)**(-g) * (1. + (x / x0)**(d / s))**s"
   ]
  },
  {
   "cell_type": "code",
   "execution_count": 92,
   "metadata": {},
   "outputs": [],
   "source": [
    "def f(c, g, x0, d):\n",
    "    chi2 = 0.0\n",
    "    data_x, data_y, err_y_lo, err_y_up = np.loadtxt('data/AMS02.txt',skiprows=2,usecols=(0,3,8,9),unpack=True)\n",
    "    m = model(data_x, c, g, x0, d)\n",
    "    for i in range(len(data_x)):\n",
    "        if data_x[i] > 30.:\n",
    "            dist = 0.0\n",
    "            if m[i] > data_y[i]:\n",
    "                dist = (m[i] - data_y[i]) / err_y_up[i]\n",
    "            else:\n",
    "                dist = (m[i] - data_y[i]) / err_y_lo[i]\n",
    "            chi2 += dist * dist\n",
    "    return chi2"
   ]
  },
  {
   "cell_type": "code",
   "execution_count": 103,
   "metadata": {
    "collapsed": true
   },
   "outputs": [],
   "source": [
    "from iminuit import Minuit\n",
    "def fit_data(filename):\n",
    "    x, y, err_y_lo, err_y_up = np.loadtxt(filename,skiprows=2,usecols=(0,3,8,9),unpack=True)\n",
    "    err_y = 0.5 * (err_y_up + err_y_lo)\n",
    "    ind = (x > 30).nonzero()\n",
    "    m, b = np.polyfit(np.log(x[ind]), np.log(y[ind]), 1) \n",
    "    #plt.plot(x, np.exp(b) * x**m)\n",
    "    init_vals = [4.5, 0.1, 400., 0.1]\n",
    "    minuit = Minuit(f, c = 4.5, error_c = 0.2,\n",
    "        g = 0.1, error_g = 0.02,\n",
    "        x0 = 300., error_x0 = 50.,\n",
    "        d = 0.03, error_d = 0.01)\n",
    "    minuit.migrad()\n",
    "    model_y = model(x, \n",
    "                    minuit.values['c'], \n",
    "                    minuit.values['g'], \n",
    "                    minuit.values['x0'], \n",
    "                    minuit.values['d']) \n",
    "    plt.plot(x, x**0.07 * model_y)\n",
    "    print m, b"
   ]
  },
  {
   "cell_type": "code",
   "execution_count": 105,
   "metadata": {},
   "outputs": [
    {
     "name": "stderr",
     "output_type": "stream",
     "text": [
      "/usr/local/Cellar/ipython@5/5.5.0_4/libexec/vendor/lib/python2.7/site-packages/ipykernel_launcher.py:12: InitialParamWarning: errordef is not given. Default to 1.\n",
      "  if sys.path[0] == '':\n"
     ]
    },
    {
     "data": {
      "text/html": [
       "<hr>"
      ]
     },
     "metadata": {},
     "output_type": "display_data"
    },
    {
     "data": {
      "text/html": [
       "\n",
       "        <table>\n",
       "            <tr>\n",
       "                <td title=\"Minimum value of function\">FCN = 4.62257169821</td>\n",
       "                <td title=\"Total number of call to FCN so far\">TOTAL NCALL = 166</td>\n",
       "                <td title=\"Number of call in last migrad\">NCALLS = 166</td>\n",
       "            </tr>\n",
       "            <tr>\n",
       "                <td title=\"Estimated distance to minimum\">EDM = 0.000151600798734</td>\n",
       "                <td title=\"Maximum EDM definition of convergence\">GOAL EDM = 1e-05</td>\n",
       "                <td title=\"Error def. Amount of increase in FCN to be defined as 1 standard deviation\">\n",
       "                UP = 1.0</td>\n",
       "            </tr>\n",
       "        </table>\n",
       "        \n",
       "        <table>\n",
       "            <tr>\n",
       "                <td align=\"center\" title=\"Validity of the migrad call\">Valid</td>\n",
       "                <td align=\"center\" title=\"Validity of parameters\">Valid Param</td>\n",
       "                <td align=\"center\" title=\"Is Covariance matrix accurate?\">Accurate Covar</td>\n",
       "                <td align=\"center\" title=\"Positive definiteness of covariance matrix\">PosDef</td>\n",
       "                <td align=\"center\" title=\"Was covariance matrix made posdef by adding diagonal element\">Made PosDef</td>\n",
       "            </tr>\n",
       "            <tr>\n",
       "                <td align=\"center\" style=\"background-color:#92CCA6\">True</td>\n",
       "                <td align=\"center\" style=\"background-color:#92CCA6\">True</td>\n",
       "                <td align=\"center\" style=\"background-color:#FF7878\">False</td>\n",
       "                <td align=\"center\" style=\"background-color:#FF7878\">False</td>\n",
       "                <td align=\"center\" style=\"background-color:#FF7878\">True</td>\n",
       "            </tr>\n",
       "            <tr>\n",
       "                <td align=\"center\" title=\"Was last hesse call fail?\">Hesse Fail</td>\n",
       "                <td align=\"center\" title=\"Validity of covariance\">HasCov</td>\n",
       "                <td align=\"center\" title=\"Is EDM above goal EDM?\">Above EDM</td>\n",
       "                <td align=\"center\"></td>\n",
       "                <td align=\"center\" title=\"Did last migrad call reach max call limit?\">Reach calllim</td>\n",
       "            </tr>\n",
       "            <tr>\n",
       "                <td align=\"center\" style=\"background-color:#92CCA6\">False</td>\n",
       "                <td align=\"center\" style=\"background-color:#92CCA6\">True</td>\n",
       "                <td align=\"center\" style=\"background-color:#92CCA6\">False</td>\n",
       "                <td align=\"center\"></td>\n",
       "                <td align=\"center\" style=\"background-color:#92CCA6\">False</td>\n",
       "            </tr>\n",
       "        </table>\n",
       "        "
      ]
     },
     "metadata": {},
     "output_type": "display_data"
    },
    {
     "data": {
      "text/html": [
       "\n",
       "        <table>\n",
       "            <tr>\n",
       "                <td><a href=\"#\" onclick=\"$('#GqwGhljdUN').toggle()\">+</a></td>\n",
       "                <td title=\"Variable name\">Name</td>\n",
       "                <td title=\"Value of parameter\">Value</td>\n",
       "                <td title=\"Parabolic error\">Parab Error</td>\n",
       "                <td title=\"Minos lower error\">Minos Error-</td>\n",
       "                <td title=\"Minos upper error\">Minos Error+</td>\n",
       "                <td title=\"Lower limit of the parameter\">Limit-</td>\n",
       "                <td title=\"Upper limit of the parameter\">Limit+</td>\n",
       "                <td title=\"Is the parameter fixed in the fit\">FIXED</td>\n",
       "            </tr>\n",
       "        \n",
       "            <tr>\n",
       "                <td>1</td>\n",
       "                <td>c</td>\n",
       "                <td>4.44023</td>\n",
       "                <td>0.201639</td>\n",
       "                <td>0</td>\n",
       "                <td>0</td>\n",
       "                <td></td>\n",
       "                <td></td>\n",
       "                <td></td>\n",
       "            </tr>\n",
       "            \n",
       "            <tr>\n",
       "                <td>2</td>\n",
       "                <td>g</td>\n",
       "                <td>0.0775942</td>\n",
       "                <td>0.032988</td>\n",
       "                <td>0</td>\n",
       "                <td>0</td>\n",
       "                <td></td>\n",
       "                <td></td>\n",
       "                <td></td>\n",
       "            </tr>\n",
       "            \n",
       "            <tr>\n",
       "                <td>3</td>\n",
       "                <td>x0</td>\n",
       "                <td>117.009</td>\n",
       "                <td>8626.23</td>\n",
       "                <td>0</td>\n",
       "                <td>0</td>\n",
       "                <td></td>\n",
       "                <td></td>\n",
       "                <td></td>\n",
       "            </tr>\n",
       "            \n",
       "            <tr>\n",
       "                <td>4</td>\n",
       "                <td>d</td>\n",
       "                <td>0.000525687</td>\n",
       "                <td>0.0676197</td>\n",
       "                <td>0</td>\n",
       "                <td>0</td>\n",
       "                <td></td>\n",
       "                <td></td>\n",
       "                <td></td>\n",
       "            </tr>\n",
       "            \n",
       "            </table>\n",
       "        \n",
       "            <pre id=\"GqwGhljdUN\" style=\"display:none;\">\n",
       "            <textarea rows=\"14\" cols=\"50\" onclick=\"this.select()\" readonly>\\begin{tabular}{|c|r|r|r|r|r|r|r|c|}\n",
       "\\hline\n",
       " & Name & Value & Para Error & Error+ & Error- & Limit+ & Limit- & FIXED\\\\\n",
       "\\hline\n",
       "1 & c & 4.440e+00 & 2.016e-01 &  &  &  &  & \\\\\n",
       "\\hline\n",
       "2 & g & 7.759e-02 & 3.299e-02 &  &  &  &  & \\\\\n",
       "\\hline\n",
       "3 & x0 & 1.170e+02 & 8.626e+03 &  &  &  &  & \\\\\n",
       "\\hline\n",
       "4 & d & 5.257e-04 & 6.762e-02 &  &  &  &  & \\\\\n",
       "\\hline\n",
       "\\end{tabular}</textarea>\n",
       "            </pre>\n",
       "            "
      ]
     },
     "metadata": {},
     "output_type": "display_data"
    },
    {
     "data": {
      "text/html": [
       "<hr>"
      ]
     },
     "metadata": {},
     "output_type": "display_data"
    },
    {
     "name": "stdout",
     "output_type": "stream",
     "text": [
      "-0.0778792777827 1.86472470614\n"
     ]
    },
    {
     "data": {
      "image/png": "[encoded data removed]",
      "text/plain": [
       "<matplotlib.figure.Figure at 0x10ced4290>"
      ]
     },
     "metadata": {},
     "output_type": "display_data"
    }
   ],
   "source": [
    "plt.close()\n",
    "#plot_data('data/PAMELA.txt', 0, 'r', 'o')\n",
    "plot_data('data/AMS02.txt', 0.07, 'b', 'o')\n",
    "#plot_data('data/BESS-PolarII.txt', 0, 'g', 'o')\n",
    "plt.xscale('log')\n",
    "plt.ylim([5, 7]), plt.xlim([10, 2e3])\n",
    "plt.xlabel('R [GV]'), plt.ylabel('H/He')\n",
    "plt.legend(['PAMELA', 'AMS02', 'BESSII'], frameon=False)\n",
    "\n",
    "fit_data('data/AMS02.txt')\n",
    "plt.show()"
   ]
  }
 ],
 "metadata": {
  "kernelspec": {
   "display_name": "Python 2",
   "language": "python",
   "name": "python2"
  },
  "language_info": {
   "codemirror_mode": {
    "name": "ipython",
    "version": 2
   },
   "file_extension": ".py",
   "mimetype": "text/x-python",
   "name": "python",
   "nbconvert_exporter": "python",
   "pygments_lexer": "ipython2",
   "version": "2.7.14"
  }
 },
 "nbformat": 4,
 "nbformat_minor": 2
}
