{
 "cells": [
  {
   "cell_type": "markdown",
   "metadata": {},
   "source": [
    "## On the H-to-He ratio"
   ]
  },
  {
   "cell_type": "markdown",
   "metadata": {},
   "source": [
    "### Solution for nuclei with spallation losses\n",
    "\n",
    "The convection-diffusion equation for nuclei with spallation in the ISM:\n",
    "\n",
    "$$-\\frac{\\partial}{\\partial z} \\left[ D \\frac{\\partial f}{\\partial z} \\right] + \\frac{f}{\\tau_{\\rm sp}} = Q_0 \\delta(z)$$\n",
    "\n",
    "where the spallation time scale is given by\n",
    "\n",
    "$$\\tau_{\\rm sp} = \\frac{1}{n_{\\rm ISM} \\sigma_{\\rm sp} v}$$\n",
    "\n",
    "Here we approximate the gas density as $n_{\\rm ISM} \\sim 2 h n_d \\delta(z)$, i.e we assume that the spallation process only occurs in the disk.\n"
   ]
  },
  {
   "cell_type": "code",
   "execution_count": 1,
   "metadata": {
    "collapsed": true
   },
   "outputs": [],
   "source": [
    "def grammage(R):\n",
    "    \"\"\"compute grammage as a function of rigidity\"\"\"\n",
    "    chi_0 = 10.\n",
    "    R_0 = 4.\n",
    "    delta = 0.34\n",
    "    return chi_0 * (R / R_0)**(-delta) "
   ]
  },
  {
   "cell_type": "code",
   "execution_count": 7,
   "metadata": {},
   "outputs": [
    {
     "data": {
      "image/png": "[encoded data removed]",
      "text/plain": [
       "<matplotlib.figure.Figure at 0x107921cd0>"
      ]
     },
     "metadata": {},
     "output_type": "display_data"
    }
   ],
   "source": [
    "import matplotlib.pyplot as plt\n",
    "import numpy as np\n",
    "R = np.logspace(1, 3, 100)\n",
    "plt.plot(R, grammage(R))\n",
    "plt.xscale('log'), plt.yscale('log')\n",
    "plt.show()"
   ]
  },
  {
   "cell_type": "code",
   "execution_count": null,
   "metadata": {
    "collapsed": true
   },
   "outputs": [],
   "source": []
  }
 ],
 "metadata": {
  "kernelspec": {
   "display_name": "Python 2",
   "language": "python",
   "name": "python2"
  },
  "language_info": {
   "codemirror_mode": {
    "name": "ipython",
    "version": 2
   },
   "file_extension": ".py",
   "mimetype": "text/x-python",
   "name": "python",
   "nbconvert_exporter": "python",
   "pygments_lexer": "ipython2",
   "version": "2.7.14"
  }
 },
 "nbformat": 4,
 "nbformat_minor": 2
}
